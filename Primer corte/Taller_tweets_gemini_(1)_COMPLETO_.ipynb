{
  "cells": [
    {
      "cell_type": "markdown",
      "id": "b357f7b0",
      "metadata": {
        "id": "b357f7b0"
      },
      "source": [
        "# Taller: Análisis de Tweets con Gemini API\n",
        "Autor: _(Paula Infante Martin)_"
      ]
    },
    {
      "cell_type": "markdown",
      "id": "2fe82eab",
      "metadata": {
        "id": "2fe82eab"
      },
      "source": [
        "## Objetivos\n",
        "1. Configurar la API de Google Generative AI (Gemini).\n",
        "2. Limpiar y pre‑procesar un corpus de tweets políticos.\n",
        "3. Clasificar sentimiento con Gemini.\n",
        "4. Extraer temas con LDA y nombrarlos con Gemini.\n",
        "5. Segmentar usuarios y generar una micro‑campaña basada en insights.\n",
        "\n",
        "**Dataset**: `tweets_partidos.csv` (columnas: `cuenta`, `partido`, `timestamp`, `tweet`)."
      ]
    },
    {
      "cell_type": "code",
      "source": [
        "!wget https://github.com/javierherrera1996/IntroMarketingAnalytics/raw/refs/heads/main/SegundoCorte/tweets_politica_kaggle.csv.zip"
      ],
      "metadata": {
        "id": "e8udN5R9O0km",
        "colab": {
          "base_uri": "https://localhost:8080/"
        },
        "outputId": "ee60b83b-e7a0-4e0a-a63f-b044ef0ee1c3"
      },
      "id": "e8udN5R9O0km",
      "execution_count": 30,
      "outputs": [
        {
          "output_type": "stream",
          "name": "stdout",
          "text": [
            "--2025-05-29 04:00:26--  https://github.com/javierherrera1996/IntroMarketingAnalytics/raw/refs/heads/main/SegundoCorte/tweets_politica_kaggle.csv.zip\n",
            "Resolving github.com (github.com)... 140.82.114.4\n",
            "Connecting to github.com (github.com)|140.82.114.4|:443... connected.\n",
            "HTTP request sent, awaiting response... 302 Found\n",
            "Location: https://raw.githubusercontent.com/javierherrera1996/IntroMarketingAnalytics/refs/heads/main/SegundoCorte/tweets_politica_kaggle.csv.zip [following]\n",
            "--2025-05-29 04:00:26--  https://raw.githubusercontent.com/javierherrera1996/IntroMarketingAnalytics/refs/heads/main/SegundoCorte/tweets_politica_kaggle.csv.zip\n",
            "Resolving raw.githubusercontent.com (raw.githubusercontent.com)... 185.199.108.133, 185.199.109.133, 185.199.110.133, ...\n",
            "Connecting to raw.githubusercontent.com (raw.githubusercontent.com)|185.199.108.133|:443... connected.\n",
            "HTTP request sent, awaiting response... 200 OK\n",
            "Length: 18276075 (17M) [application/zip]\n",
            "Saving to: ‘tweets_politica_kaggle.csv.zip.1’\n",
            "\n",
            "tweets_politica_kag 100%[===================>]  17.43M  --.-KB/s    in 0.06s   \n",
            "\n",
            "2025-05-29 04:00:26 (310 MB/s) - ‘tweets_politica_kaggle.csv.zip.1’ saved [18276075/18276075]\n",
            "\n"
          ]
        }
      ]
    },
    {
      "cell_type": "code",
      "source": [
        "!unzip tweets_politica_kaggle.csv.zip"
      ],
      "metadata": {
        "id": "PJC93YJdO1vG",
        "colab": {
          "base_uri": "https://localhost:8080/"
        },
        "outputId": "46adfa8f-916c-4777-a92e-e0f9e441afa3"
      },
      "id": "PJC93YJdO1vG",
      "execution_count": 31,
      "outputs": [
        {
          "output_type": "stream",
          "name": "stdout",
          "text": [
            "Archive:  tweets_politica_kaggle.csv.zip\n",
            "replace tweets_politica_kaggle.csv? [y]es, [n]o, [A]ll, [N]one, [r]ename: "
          ]
        }
      ]
    },
    {
      "cell_type": "code",
      "execution_count": 32,
      "id": "bb91e5a2",
      "metadata": {
        "id": "bb91e5a2",
        "colab": {
          "base_uri": "https://localhost:8080/"
        },
        "outputId": "a0dabc12-5a0c-404e-99e3-dabc25fddea5"
      },
      "outputs": [
        {
          "output_type": "stream",
          "name": "stdout",
          "text": [
            "\u001b[33mWARNING: Ignoring invalid distribution ~umpy (/usr/local/lib/python3.11/dist-packages)\u001b[0m\u001b[33m\n",
            "\u001b[0m\u001b[33mWARNING: Ignoring invalid distribution ~umpy (/usr/local/lib/python3.11/dist-packages)\u001b[0m\u001b[33m\n",
            "\u001b[2K   \u001b[90m━━━━━━━━━━━━━━━━━━━━━━━━━━━━━━━━━━━━━━━━\u001b[0m \u001b[32m16.8/16.8 MB\u001b[0m \u001b[31m83.1 MB/s\u001b[0m eta \u001b[36m0:00:00\u001b[0m\n",
            "\u001b[?25h\u001b[33mWARNING: Ignoring invalid distribution ~umpy (/usr/local/lib/python3.11/dist-packages)\u001b[0m\u001b[33m\n",
            "\u001b[0m\u001b[33mWARNING: Ignoring invalid distribution ~umpy (/usr/local/lib/python3.11/dist-packages)\u001b[0m\u001b[33m\n",
            "\u001b[0m\u001b[31mERROR: pip's dependency resolver does not currently take into account all the packages that are installed. This behaviour is the source of the following dependency conflicts.\n",
            "gensim 4.3.3 requires numpy<2.0,>=1.18.5, but you have numpy 2.2.6 which is incompatible.\n",
            "tsfresh 0.21.0 requires scipy>=1.14.0; python_version >= \"3.10\", but you have scipy 1.13.1 which is incompatible.\n",
            "numba 0.60.0 requires numpy<2.1,>=1.22, but you have numpy 2.2.6 which is incompatible.\n",
            "tensorflow 2.18.0 requires numpy<2.1.0,>=1.26.0, but you have numpy 2.2.6 which is incompatible.\u001b[0m\u001b[31m\n",
            "\u001b[0m"
          ]
        }
      ],
      "source": [
        "!pip install -q -U google-generativeai nltk seaborn wordcloud scikit-learn"
      ]
    },
    {
      "cell_type": "code",
      "execution_count": 33,
      "id": "906704c8",
      "metadata": {
        "id": "906704c8",
        "colab": {
          "base_uri": "https://localhost:8080/",
          "height": 261
        },
        "outputId": "c355f293-adb7-4d60-c534-ebf3b8df37d7"
      },
      "outputs": [
        {
          "output_type": "stream",
          "name": "stderr",
          "text": [
            "<ipython-input-33-c31c22c5f73e>:3: ParserWarning: Falling back to the 'python' engine because the 'c' engine does not support regex separators (separators > 1 char and different from '\\s+' are interpreted as regex); you can avoid this warning by specifying engine='python'.\n",
            "  df = pd.read_csv('tweets_politica_kaggle.csv', delimiter='/t', on_bad_lines='skip' )\n"
          ]
        },
        {
          "output_type": "execute_result",
          "data": {
            "text/plain": [
              "                   cuenta\\tpartido\\ttimestamp\\ttweet\n",
              "0  a34133350b0605cb24081843f63176ca\\tpsoe\\t136397...\n",
              "1  a34133350b0605cb24081843f63176ca\\tpsoe\\t136406...\n",
              "2  a34133350b0605cb24081843f63176ca\\tpsoe\\t136411...\n",
              "3  a34133350b0605cb24081843f63176ca\\tpsoe\\t136412...\n",
              "4  a34133350b0605cb24081843f63176ca\\tpsoe\\t136415..."
            ],
            "text/html": [
              "\n",
              "  <div id=\"df-b4926b62-8beb-438f-95ae-ed485a8e27e0\" class=\"colab-df-container\">\n",
              "    <div>\n",
              "<style scoped>\n",
              "    .dataframe tbody tr th:only-of-type {\n",
              "        vertical-align: middle;\n",
              "    }\n",
              "\n",
              "    .dataframe tbody tr th {\n",
              "        vertical-align: top;\n",
              "    }\n",
              "\n",
              "    .dataframe thead th {\n",
              "        text-align: right;\n",
              "    }\n",
              "</style>\n",
              "<table border=\"1\" class=\"dataframe\">\n",
              "  <thead>\n",
              "    <tr style=\"text-align: right;\">\n",
              "      <th></th>\n",
              "      <th>cuenta\\tpartido\\ttimestamp\\ttweet</th>\n",
              "    </tr>\n",
              "  </thead>\n",
              "  <tbody>\n",
              "    <tr>\n",
              "      <th>0</th>\n",
              "      <td>a34133350b0605cb24081843f63176ca\\tpsoe\\t136397...</td>\n",
              "    </tr>\n",
              "    <tr>\n",
              "      <th>1</th>\n",
              "      <td>a34133350b0605cb24081843f63176ca\\tpsoe\\t136406...</td>\n",
              "    </tr>\n",
              "    <tr>\n",
              "      <th>2</th>\n",
              "      <td>a34133350b0605cb24081843f63176ca\\tpsoe\\t136411...</td>\n",
              "    </tr>\n",
              "    <tr>\n",
              "      <th>3</th>\n",
              "      <td>a34133350b0605cb24081843f63176ca\\tpsoe\\t136412...</td>\n",
              "    </tr>\n",
              "    <tr>\n",
              "      <th>4</th>\n",
              "      <td>a34133350b0605cb24081843f63176ca\\tpsoe\\t136415...</td>\n",
              "    </tr>\n",
              "  </tbody>\n",
              "</table>\n",
              "</div>\n",
              "    <div class=\"colab-df-buttons\">\n",
              "\n",
              "  <div class=\"colab-df-container\">\n",
              "    <button class=\"colab-df-convert\" onclick=\"convertToInteractive('df-b4926b62-8beb-438f-95ae-ed485a8e27e0')\"\n",
              "            title=\"Convert this dataframe to an interactive table.\"\n",
              "            style=\"display:none;\">\n",
              "\n",
              "  <svg xmlns=\"http://www.w3.org/2000/svg\" height=\"24px\" viewBox=\"0 -960 960 960\">\n",
              "    <path d=\"M120-120v-720h720v720H120Zm60-500h600v-160H180v160Zm220 220h160v-160H400v160Zm0 220h160v-160H400v160ZM180-400h160v-160H180v160Zm440 0h160v-160H620v160ZM180-180h160v-160H180v160Zm440 0h160v-160H620v160Z\"/>\n",
              "  </svg>\n",
              "    </button>\n",
              "\n",
              "  <style>\n",
              "    .colab-df-container {\n",
              "      display:flex;\n",
              "      gap: 12px;\n",
              "    }\n",
              "\n",
              "    .colab-df-convert {\n",
              "      background-color: #E8F0FE;\n",
              "      border: none;\n",
              "      border-radius: 50%;\n",
              "      cursor: pointer;\n",
              "      display: none;\n",
              "      fill: #1967D2;\n",
              "      height: 32px;\n",
              "      padding: 0 0 0 0;\n",
              "      width: 32px;\n",
              "    }\n",
              "\n",
              "    .colab-df-convert:hover {\n",
              "      background-color: #E2EBFA;\n",
              "      box-shadow: 0px 1px 2px rgba(60, 64, 67, 0.3), 0px 1px 3px 1px rgba(60, 64, 67, 0.15);\n",
              "      fill: #174EA6;\n",
              "    }\n",
              "\n",
              "    .colab-df-buttons div {\n",
              "      margin-bottom: 4px;\n",
              "    }\n",
              "\n",
              "    [theme=dark] .colab-df-convert {\n",
              "      background-color: #3B4455;\n",
              "      fill: #D2E3FC;\n",
              "    }\n",
              "\n",
              "    [theme=dark] .colab-df-convert:hover {\n",
              "      background-color: #434B5C;\n",
              "      box-shadow: 0px 1px 3px 1px rgba(0, 0, 0, 0.15);\n",
              "      filter: drop-shadow(0px 1px 2px rgba(0, 0, 0, 0.3));\n",
              "      fill: #FFFFFF;\n",
              "    }\n",
              "  </style>\n",
              "\n",
              "    <script>\n",
              "      const buttonEl =\n",
              "        document.querySelector('#df-b4926b62-8beb-438f-95ae-ed485a8e27e0 button.colab-df-convert');\n",
              "      buttonEl.style.display =\n",
              "        google.colab.kernel.accessAllowed ? 'block' : 'none';\n",
              "\n",
              "      async function convertToInteractive(key) {\n",
              "        const element = document.querySelector('#df-b4926b62-8beb-438f-95ae-ed485a8e27e0');\n",
              "        const dataTable =\n",
              "          await google.colab.kernel.invokeFunction('convertToInteractive',\n",
              "                                                    [key], {});\n",
              "        if (!dataTable) return;\n",
              "\n",
              "        const docLinkHtml = 'Like what you see? Visit the ' +\n",
              "          '<a target=\"_blank\" href=https://colab.research.google.com/notebooks/data_table.ipynb>data table notebook</a>'\n",
              "          + ' to learn more about interactive tables.';\n",
              "        element.innerHTML = '';\n",
              "        dataTable['output_type'] = 'display_data';\n",
              "        await google.colab.output.renderOutput(dataTable, element);\n",
              "        const docLink = document.createElement('div');\n",
              "        docLink.innerHTML = docLinkHtml;\n",
              "        element.appendChild(docLink);\n",
              "      }\n",
              "    </script>\n",
              "  </div>\n",
              "\n",
              "\n",
              "    <div id=\"df-905e9e7d-83d6-4b37-b5d4-e537b309aaa9\">\n",
              "      <button class=\"colab-df-quickchart\" onclick=\"quickchart('df-905e9e7d-83d6-4b37-b5d4-e537b309aaa9')\"\n",
              "                title=\"Suggest charts\"\n",
              "                style=\"display:none;\">\n",
              "\n",
              "<svg xmlns=\"http://www.w3.org/2000/svg\" height=\"24px\"viewBox=\"0 0 24 24\"\n",
              "     width=\"24px\">\n",
              "    <g>\n",
              "        <path d=\"M19 3H5c-1.1 0-2 .9-2 2v14c0 1.1.9 2 2 2h14c1.1 0 2-.9 2-2V5c0-1.1-.9-2-2-2zM9 17H7v-7h2v7zm4 0h-2V7h2v10zm4 0h-2v-4h2v4z\"/>\n",
              "    </g>\n",
              "</svg>\n",
              "      </button>\n",
              "\n",
              "<style>\n",
              "  .colab-df-quickchart {\n",
              "      --bg-color: #E8F0FE;\n",
              "      --fill-color: #1967D2;\n",
              "      --hover-bg-color: #E2EBFA;\n",
              "      --hover-fill-color: #174EA6;\n",
              "      --disabled-fill-color: #AAA;\n",
              "      --disabled-bg-color: #DDD;\n",
              "  }\n",
              "\n",
              "  [theme=dark] .colab-df-quickchart {\n",
              "      --bg-color: #3B4455;\n",
              "      --fill-color: #D2E3FC;\n",
              "      --hover-bg-color: #434B5C;\n",
              "      --hover-fill-color: #FFFFFF;\n",
              "      --disabled-bg-color: #3B4455;\n",
              "      --disabled-fill-color: #666;\n",
              "  }\n",
              "\n",
              "  .colab-df-quickchart {\n",
              "    background-color: var(--bg-color);\n",
              "    border: none;\n",
              "    border-radius: 50%;\n",
              "    cursor: pointer;\n",
              "    display: none;\n",
              "    fill: var(--fill-color);\n",
              "    height: 32px;\n",
              "    padding: 0;\n",
              "    width: 32px;\n",
              "  }\n",
              "\n",
              "  .colab-df-quickchart:hover {\n",
              "    background-color: var(--hover-bg-color);\n",
              "    box-shadow: 0 1px 2px rgba(60, 64, 67, 0.3), 0 1px 3px 1px rgba(60, 64, 67, 0.15);\n",
              "    fill: var(--button-hover-fill-color);\n",
              "  }\n",
              "\n",
              "  .colab-df-quickchart-complete:disabled,\n",
              "  .colab-df-quickchart-complete:disabled:hover {\n",
              "    background-color: var(--disabled-bg-color);\n",
              "    fill: var(--disabled-fill-color);\n",
              "    box-shadow: none;\n",
              "  }\n",
              "\n",
              "  .colab-df-spinner {\n",
              "    border: 2px solid var(--fill-color);\n",
              "    border-color: transparent;\n",
              "    border-bottom-color: var(--fill-color);\n",
              "    animation:\n",
              "      spin 1s steps(1) infinite;\n",
              "  }\n",
              "\n",
              "  @keyframes spin {\n",
              "    0% {\n",
              "      border-color: transparent;\n",
              "      border-bottom-color: var(--fill-color);\n",
              "      border-left-color: var(--fill-color);\n",
              "    }\n",
              "    20% {\n",
              "      border-color: transparent;\n",
              "      border-left-color: var(--fill-color);\n",
              "      border-top-color: var(--fill-color);\n",
              "    }\n",
              "    30% {\n",
              "      border-color: transparent;\n",
              "      border-left-color: var(--fill-color);\n",
              "      border-top-color: var(--fill-color);\n",
              "      border-right-color: var(--fill-color);\n",
              "    }\n",
              "    40% {\n",
              "      border-color: transparent;\n",
              "      border-right-color: var(--fill-color);\n",
              "      border-top-color: var(--fill-color);\n",
              "    }\n",
              "    60% {\n",
              "      border-color: transparent;\n",
              "      border-right-color: var(--fill-color);\n",
              "    }\n",
              "    80% {\n",
              "      border-color: transparent;\n",
              "      border-right-color: var(--fill-color);\n",
              "      border-bottom-color: var(--fill-color);\n",
              "    }\n",
              "    90% {\n",
              "      border-color: transparent;\n",
              "      border-bottom-color: var(--fill-color);\n",
              "    }\n",
              "  }\n",
              "</style>\n",
              "\n",
              "      <script>\n",
              "        async function quickchart(key) {\n",
              "          const quickchartButtonEl =\n",
              "            document.querySelector('#' + key + ' button');\n",
              "          quickchartButtonEl.disabled = true;  // To prevent multiple clicks.\n",
              "          quickchartButtonEl.classList.add('colab-df-spinner');\n",
              "          try {\n",
              "            const charts = await google.colab.kernel.invokeFunction(\n",
              "                'suggestCharts', [key], {});\n",
              "          } catch (error) {\n",
              "            console.error('Error during call to suggestCharts:', error);\n",
              "          }\n",
              "          quickchartButtonEl.classList.remove('colab-df-spinner');\n",
              "          quickchartButtonEl.classList.add('colab-df-quickchart-complete');\n",
              "        }\n",
              "        (() => {\n",
              "          let quickchartButtonEl =\n",
              "            document.querySelector('#df-905e9e7d-83d6-4b37-b5d4-e537b309aaa9 button');\n",
              "          quickchartButtonEl.style.display =\n",
              "            google.colab.kernel.accessAllowed ? 'block' : 'none';\n",
              "        })();\n",
              "      </script>\n",
              "    </div>\n",
              "\n",
              "    </div>\n",
              "  </div>\n"
            ],
            "application/vnd.google.colaboratory.intrinsic+json": {
              "type": "dataframe",
              "variable_name": "df",
              "summary": "{\n  \"name\": \"df\",\n  \"rows\": 35918,\n  \"fields\": [\n    {\n      \"column\": \"cuenta\\tpartido\\ttimestamp\\ttweet\",\n      \"properties\": {\n        \"dtype\": \"string\",\n        \"num_unique_values\": 35851,\n        \"samples\": [\n          \"324a45dd1f9dcb3e236cfb4211caed74\\tvox\\t1562133644.0\\tEl Parlamento Europeo ha soportado hoy la arenga comunista de Sira Rego, espa\\u00f1ola: un discurso de hembrismo violento que ha terminado con el pu\\u00f1o en alto. Lleno de insultos a la inteligencia y de frases hechas en el gulag. Eso s\\u00ed, el peligro, dice, es el machismo neofascista \\ud83d\\ude02\",\n          \"8bd30b4c845d7379dd597e3a2d61cfff\\tpsoe\\t1584090010.0\\t@PacoHurtadoSan @Desiderio2015 Un apunte de mucho inter\\u00e9s pr\\u00e1ctico e ideologico.\",\n          \"eddfab91a4628eb6eee5c90146c3e39d\\tpp\\t1578736482.0\\t@Carlos__Mayoral @distoppia \\ud83d\\udc4f\\ud83c\\udffb\\ud83d\\udc4f\\ud83c\\udffb\\ud83d\\udc4f\\ud83c\\udffb\"\n        ],\n        \"semantic_type\": \"\",\n        \"description\": \"\"\n      }\n    }\n  ]\n}"
            }
          },
          "metadata": {},
          "execution_count": 33
        }
      ],
      "source": [
        "import pandas as pd\n",
        "\n",
        "df = pd.read_csv('tweets_politica_kaggle.csv', delimiter='/t', on_bad_lines='skip' )\n",
        "df.head()"
      ]
    },
    {
      "cell_type": "markdown",
      "id": "4a8217c6",
      "metadata": {
        "id": "4a8217c6"
      },
      "source": [
        "### 🔍 Preguntas – Sección 1 (Exploración)\n",
        "1. **¿Cuántos tweets hay en total?**  \n",
        "2. **¿Qué partidos aparecen y cuántos tweets aporta cada uno?**  \n",
        "3. **¿Cuál es el rango de fechas cubierto por los tweets?**  \n",
        "4. **¿Qué partido genera más conversación y por qué crees que ocurre?**"
      ]
    },
    {
      "cell_type": "code",
      "execution_count": 34,
      "id": "a6188841",
      "metadata": {
        "id": "a6188841",
        "colab": {
          "base_uri": "https://localhost:8080/"
        },
        "outputId": "440c30ab-bfe2-45f0-d753-97231766e7c1"
      },
      "outputs": [
        {
          "output_type": "stream",
          "name": "stdout",
          "text": [
            "\n",
            "¿Cuántos tweets hay en total?\n",
            "35918\n"
          ]
        }
      ],
      "source": [
        "total_tweets = len(df)\n",
        "print(f\"\\n¿Cuántos tweets hay en total?\\n{total_tweets}\")\n"
      ]
    },
    {
      "cell_type": "code",
      "source": [
        "df = pd.read_csv('tweets_politica_kaggle.csv', delimiter='\\t', on_bad_lines='skip')\n",
        "df.head()\n",
        "conteo_partidos = df['partido'].value_counts()\n",
        "print(f\"\\n¿Qué partidos aparecen y cuántos tweets aporta cada uno?\\n{conteo_partidos}\")"
      ],
      "metadata": {
        "colab": {
          "base_uri": "https://localhost:8080/"
        },
        "id": "QTfuRH-EhYMq",
        "outputId": "7fb32d2a-da5a-471c-a4f1-9f42b565b07b"
      },
      "id": "QTfuRH-EhYMq",
      "execution_count": 35,
      "outputs": [
        {
          "output_type": "stream",
          "name": "stdout",
          "text": [
            "\n",
            "¿Qué partidos aparecen y cuántos tweets aporta cada uno?\n",
            "partido\n",
            "psoe          42818\n",
            "vox           38277\n",
            "pp            35059\n",
            "podemos       34442\n",
            "ciudadanos    30908\n",
            "Name: count, dtype: int64\n"
          ]
        }
      ]
    },
    {
      "cell_type": "code",
      "source": [
        "df['fecha'] = pd.to_datetime(df['timestamp'])\n",
        "fecha_minima = df['fecha'].min()\n",
        "fecha_maxima = df['fecha'].max()\n",
        "print(f\"\\n¿Cuál es el rango de fechas cubierto por los tweets?\\nDesde: {fecha_minima}\\nHasta: {fecha_maxima}\")"
      ],
      "metadata": {
        "colab": {
          "base_uri": "https://localhost:8080/"
        },
        "id": "t4IYZJxkhixv",
        "outputId": "07c03ff7-069d-4295-ea76-62b3ba677e6e"
      },
      "id": "t4IYZJxkhixv",
      "execution_count": 36,
      "outputs": [
        {
          "output_type": "stream",
          "name": "stdout",
          "text": [
            "\n",
            "¿Cuál es el rango de fechas cubierto por los tweets?\n",
            "Desde: 1970-01-01 00:00:01.363973492\n",
            "Hasta: 1970-01-01 00:00:01.651224962\n"
          ]
        }
      ]
    },
    {
      "cell_type": "code",
      "source": [
        "partido_mas_tweets = conteo_partidos.idxmax()\n",
        "print(f\"\\n¿Qué partido genera más conversación y por qué crees que ocurre?\\nEl partido que genera más conversación es: {partido_mas_tweets}\")\n",
        "print(\"\\nPosible razón: Es posible que este partido tenga una estrategia de comunicación más activa en redes sociales, o que sea un tema de interés constante para el público en general.\")\n"
      ],
      "metadata": {
        "colab": {
          "base_uri": "https://localhost:8080/"
        },
        "id": "gPsWgDuP8jSx",
        "outputId": "a02d0120-1eec-4467-94aa-d8df30dd9b0a"
      },
      "id": "gPsWgDuP8jSx",
      "execution_count": 37,
      "outputs": [
        {
          "output_type": "stream",
          "name": "stdout",
          "text": [
            "\n",
            "¿Qué partido genera más conversación y por qué crees que ocurre?\n",
            "El partido que genera más conversación es: psoe\n",
            "\n",
            "Posible razón: Es posible que este partido tenga una estrategia de comunicación más activa en redes sociales, o que sea un tema de interés constante para el público en general.\n"
          ]
        }
      ]
    },
    {
      "cell_type": "markdown",
      "id": "c06a3675",
      "metadata": {
        "id": "c06a3675"
      },
      "source": [
        "### 🧹 Preguntas – Sección 2 (Limpieza)\n",
        "5. Explica **por qué es importante limpiar y normalizar el texto**.  \n",
        "6. Enumera **tres tipos de “ruido”** que removes y da un ejemplo de cada uno."
      ]
    },
    {
      "cell_type": "markdown",
      "source": [
        "La limpieza y normalización son como desempolvar y organizar ese tesoro. Quitamos la basura, estandarizamos todo mayúsculas, errores, etc. para que los programas de análisis como la inteligencia artificial puedan entenderlo perfectamente.\n",
        "\n",
        "Esto asegura que tus resultados sean precisos y útiles, evitando confusiones. Es la clave para que el análisis de texto funcione bien."
      ],
      "metadata": {
        "id": "weB9AvWZ9KNx"
      },
      "id": "weB9AvWZ9KNx"
    },
    {
      "cell_type": "markdown",
      "source": [
        "RUIDO:\n",
        "\n",
        "1. Símbolos y Puntuación Innecesaria\n",
        "Piensa en esto como el polvo o las motas flotando en una foto. A veces, caracteres como !, ?, @, # o incluso comas y puntos, aunque son parte del lenguaje, no añaden un significado semántico crucial cuando se analiza el texto. Quitarlos ayuda a que la \"foto\" (el texto) sea más nítida.\n",
        "\n",
        "2. Enlaces Web (URLs) y Menciones de Usuario\n",
        "Imagina que estás leyendo un libro y, de repente, aparecen anuncios o direcciones de páginas web enormes en medio del texto. Las URLs (enlaces web) y las menciones de usuario (@alguien) en redes sociales son ese tipo de \"ruido\". No te dicen nada sobre el contenido principal del mensaje, así que los eliminamos para enfocarnos en lo importante.\n",
        "\n",
        "3. Mayúsculas y Minúsculas Inconsistentes\n",
        "Esto es como si alguien escribiera la misma palabra de formas diferentes y aleatorias (\"Casa\", \"casa\", \"CASA\"). Para una computadora, estas parecen tres palabras distintas, aunque significan lo mismo. Al convertirlas todas a minúsculas, las agrupamos para que el análisis sea más inteligente."
      ],
      "metadata": {
        "id": "USnshPhz96IO"
      },
      "id": "USnshPhz96IO"
    },
    {
      "cell_type": "markdown",
      "id": "93d108b4",
      "metadata": {
        "id": "93d108b4"
      },
      "source": [
        "### 😊 Preguntas – Sección 3 (Sentimiento)\n",
        "7. Presenta la **distribución global** de sentimientos y comenta.  \n",
        "8. **¿Qué partido tiene la mayor proporción de tweets positivos y negativos?**  \n",
        "9. Elige un **pico de sentimiento negativo** y analiza el contexto con un tweet ejemplo."
      ]
    },
    {
      "cell_type": "code",
      "source": [
        "!pip install -U textblob\n",
        "!python -m textblob.download_corpora"
      ],
      "metadata": {
        "colab": {
          "base_uri": "https://localhost:8080/"
        },
        "id": "UnwhXqy1-pK9",
        "outputId": "2e94cd30-0f75-49fd-fb7e-e1d85a13f1d7"
      },
      "id": "UnwhXqy1-pK9",
      "execution_count": 38,
      "outputs": [
        {
          "output_type": "stream",
          "name": "stdout",
          "text": [
            "\u001b[33mWARNING: Ignoring invalid distribution ~umpy (/usr/local/lib/python3.11/dist-packages)\u001b[0m\u001b[33m\n",
            "\u001b[0m\u001b[33mWARNING: Ignoring invalid distribution ~umpy (/usr/local/lib/python3.11/dist-packages)\u001b[0m\u001b[33m\n",
            "\u001b[0mRequirement already satisfied: textblob in /usr/local/lib/python3.11/dist-packages (0.19.0)\n",
            "Requirement already satisfied: nltk>=3.9 in /usr/local/lib/python3.11/dist-packages (from textblob) (3.9.1)\n",
            "Requirement already satisfied: click in /usr/local/lib/python3.11/dist-packages (from nltk>=3.9->textblob) (8.2.1)\n",
            "Requirement already satisfied: joblib in /usr/local/lib/python3.11/dist-packages (from nltk>=3.9->textblob) (1.5.0)\n",
            "Requirement already satisfied: regex>=2021.8.3 in /usr/local/lib/python3.11/dist-packages (from nltk>=3.9->textblob) (2024.11.6)\n",
            "Requirement already satisfied: tqdm in /usr/local/lib/python3.11/dist-packages (from nltk>=3.9->textblob) (4.67.1)\n",
            "\u001b[33mWARNING: Ignoring invalid distribution ~umpy (/usr/local/lib/python3.11/dist-packages)\u001b[0m\u001b[33m\n",
            "\u001b[0m[nltk_data] Downloading package brown to /root/nltk_data...\n",
            "[nltk_data]   Package brown is already up-to-date!\n",
            "[nltk_data] Downloading package punkt_tab to /root/nltk_data...\n",
            "[nltk_data]   Package punkt_tab is already up-to-date!\n",
            "[nltk_data] Downloading package wordnet to /root/nltk_data...\n",
            "[nltk_data]   Package wordnet is already up-to-date!\n",
            "[nltk_data] Downloading package averaged_perceptron_tagger_eng to\n",
            "[nltk_data]     /root/nltk_data...\n",
            "[nltk_data]   Package averaged_perceptron_tagger_eng is already up-to-\n",
            "[nltk_data]       date!\n",
            "[nltk_data] Downloading package conll2000 to /root/nltk_data...\n",
            "[nltk_data]   Package conll2000 is already up-to-date!\n",
            "[nltk_data] Downloading package movie_reviews to /root/nltk_data...\n",
            "[nltk_data]   Package movie_reviews is already up-to-date!\n",
            "Finished.\n"
          ]
        }
      ]
    },
    {
      "cell_type": "code",
      "source": [
        "from textblob import TextBlob\n",
        "\n",
        "def obtener_sentimiento(texto):\n",
        "    analisis = TextBlob(str(texto))\n",
        "    if analisis.sentiment.polarity > 0:\n",
        "        return 'positivo'\n",
        "    elif analisis.sentiment.polarity < 0:\n",
        "        return 'negativo'\n",
        "    else:\n",
        "        return 'neutro'\n",
        "\n",
        "df['sentimiento'] = df['tweet'].apply(obtener_sentimiento)\n",
        "df[['tweet', 'sentimiento']].head()"
      ],
      "metadata": {
        "colab": {
          "base_uri": "https://localhost:8080/",
          "height": 206
        },
        "id": "BrNIIQkq_mk2",
        "outputId": "70d4aad3-31fe-42fb-d3a9-f9c574075071"
      },
      "id": "BrNIIQkq_mk2",
      "execution_count": 39,
      "outputs": [
        {
          "output_type": "execute_result",
          "data": {
            "text/plain": [
              "                                               tweet sentimiento\n",
              "0  @vesteve3 @manubenas @ccoo_rm @desobediencia_ ...      neutro\n",
              "1  “@kirovast: @Hugo_Moran muy fan de la \"radical...    positivo\n",
              "2  @ALTAS_PRESIONES Nuevos dueños para las renova...      neutro\n",
              "3  @jumanjisolar @solartradex @josea_dolera El di...      neutro\n",
              "4  “@cesarnayu: https://t.co/J4OTXj1x7w … Por fav...      neutro"
            ],
            "text/html": [
              "\n",
              "  <div id=\"df-42cb4372-bc61-43bb-9205-8315db07eaec\" class=\"colab-df-container\">\n",
              "    <div>\n",
              "<style scoped>\n",
              "    .dataframe tbody tr th:only-of-type {\n",
              "        vertical-align: middle;\n",
              "    }\n",
              "\n",
              "    .dataframe tbody tr th {\n",
              "        vertical-align: top;\n",
              "    }\n",
              "\n",
              "    .dataframe thead th {\n",
              "        text-align: right;\n",
              "    }\n",
              "</style>\n",
              "<table border=\"1\" class=\"dataframe\">\n",
              "  <thead>\n",
              "    <tr style=\"text-align: right;\">\n",
              "      <th></th>\n",
              "      <th>tweet</th>\n",
              "      <th>sentimiento</th>\n",
              "    </tr>\n",
              "  </thead>\n",
              "  <tbody>\n",
              "    <tr>\n",
              "      <th>0</th>\n",
              "      <td>@vesteve3 @manubenas @ccoo_rm @desobediencia_ ...</td>\n",
              "      <td>neutro</td>\n",
              "    </tr>\n",
              "    <tr>\n",
              "      <th>1</th>\n",
              "      <td>“@kirovast: @Hugo_Moran muy fan de la \"radical...</td>\n",
              "      <td>positivo</td>\n",
              "    </tr>\n",
              "    <tr>\n",
              "      <th>2</th>\n",
              "      <td>@ALTAS_PRESIONES Nuevos dueños para las renova...</td>\n",
              "      <td>neutro</td>\n",
              "    </tr>\n",
              "    <tr>\n",
              "      <th>3</th>\n",
              "      <td>@jumanjisolar @solartradex @josea_dolera El di...</td>\n",
              "      <td>neutro</td>\n",
              "    </tr>\n",
              "    <tr>\n",
              "      <th>4</th>\n",
              "      <td>“@cesarnayu: https://t.co/J4OTXj1x7w … Por fav...</td>\n",
              "      <td>neutro</td>\n",
              "    </tr>\n",
              "  </tbody>\n",
              "</table>\n",
              "</div>\n",
              "    <div class=\"colab-df-buttons\">\n",
              "\n",
              "  <div class=\"colab-df-container\">\n",
              "    <button class=\"colab-df-convert\" onclick=\"convertToInteractive('df-42cb4372-bc61-43bb-9205-8315db07eaec')\"\n",
              "            title=\"Convert this dataframe to an interactive table.\"\n",
              "            style=\"display:none;\">\n",
              "\n",
              "  <svg xmlns=\"http://www.w3.org/2000/svg\" height=\"24px\" viewBox=\"0 -960 960 960\">\n",
              "    <path d=\"M120-120v-720h720v720H120Zm60-500h600v-160H180v160Zm220 220h160v-160H400v160Zm0 220h160v-160H400v160ZM180-400h160v-160H180v160Zm440 0h160v-160H620v160ZM180-180h160v-160H180v160Zm440 0h160v-160H620v160Z\"/>\n",
              "  </svg>\n",
              "    </button>\n",
              "\n",
              "  <style>\n",
              "    .colab-df-container {\n",
              "      display:flex;\n",
              "      gap: 12px;\n",
              "    }\n",
              "\n",
              "    .colab-df-convert {\n",
              "      background-color: #E8F0FE;\n",
              "      border: none;\n",
              "      border-radius: 50%;\n",
              "      cursor: pointer;\n",
              "      display: none;\n",
              "      fill: #1967D2;\n",
              "      height: 32px;\n",
              "      padding: 0 0 0 0;\n",
              "      width: 32px;\n",
              "    }\n",
              "\n",
              "    .colab-df-convert:hover {\n",
              "      background-color: #E2EBFA;\n",
              "      box-shadow: 0px 1px 2px rgba(60, 64, 67, 0.3), 0px 1px 3px 1px rgba(60, 64, 67, 0.15);\n",
              "      fill: #174EA6;\n",
              "    }\n",
              "\n",
              "    .colab-df-buttons div {\n",
              "      margin-bottom: 4px;\n",
              "    }\n",
              "\n",
              "    [theme=dark] .colab-df-convert {\n",
              "      background-color: #3B4455;\n",
              "      fill: #D2E3FC;\n",
              "    }\n",
              "\n",
              "    [theme=dark] .colab-df-convert:hover {\n",
              "      background-color: #434B5C;\n",
              "      box-shadow: 0px 1px 3px 1px rgba(0, 0, 0, 0.15);\n",
              "      filter: drop-shadow(0px 1px 2px rgba(0, 0, 0, 0.3));\n",
              "      fill: #FFFFFF;\n",
              "    }\n",
              "  </style>\n",
              "\n",
              "    <script>\n",
              "      const buttonEl =\n",
              "        document.querySelector('#df-42cb4372-bc61-43bb-9205-8315db07eaec button.colab-df-convert');\n",
              "      buttonEl.style.display =\n",
              "        google.colab.kernel.accessAllowed ? 'block' : 'none';\n",
              "\n",
              "      async function convertToInteractive(key) {\n",
              "        const element = document.querySelector('#df-42cb4372-bc61-43bb-9205-8315db07eaec');\n",
              "        const dataTable =\n",
              "          await google.colab.kernel.invokeFunction('convertToInteractive',\n",
              "                                                    [key], {});\n",
              "        if (!dataTable) return;\n",
              "\n",
              "        const docLinkHtml = 'Like what you see? Visit the ' +\n",
              "          '<a target=\"_blank\" href=https://colab.research.google.com/notebooks/data_table.ipynb>data table notebook</a>'\n",
              "          + ' to learn more about interactive tables.';\n",
              "        element.innerHTML = '';\n",
              "        dataTable['output_type'] = 'display_data';\n",
              "        await google.colab.output.renderOutput(dataTable, element);\n",
              "        const docLink = document.createElement('div');\n",
              "        docLink.innerHTML = docLinkHtml;\n",
              "        element.appendChild(docLink);\n",
              "      }\n",
              "    </script>\n",
              "  </div>\n",
              "\n",
              "\n",
              "    <div id=\"df-a72d3f50-4b11-495d-a665-b2ea35f1fd32\">\n",
              "      <button class=\"colab-df-quickchart\" onclick=\"quickchart('df-a72d3f50-4b11-495d-a665-b2ea35f1fd32')\"\n",
              "                title=\"Suggest charts\"\n",
              "                style=\"display:none;\">\n",
              "\n",
              "<svg xmlns=\"http://www.w3.org/2000/svg\" height=\"24px\"viewBox=\"0 0 24 24\"\n",
              "     width=\"24px\">\n",
              "    <g>\n",
              "        <path d=\"M19 3H5c-1.1 0-2 .9-2 2v14c0 1.1.9 2 2 2h14c1.1 0 2-.9 2-2V5c0-1.1-.9-2-2-2zM9 17H7v-7h2v7zm4 0h-2V7h2v10zm4 0h-2v-4h2v4z\"/>\n",
              "    </g>\n",
              "</svg>\n",
              "      </button>\n",
              "\n",
              "<style>\n",
              "  .colab-df-quickchart {\n",
              "      --bg-color: #E8F0FE;\n",
              "      --fill-color: #1967D2;\n",
              "      --hover-bg-color: #E2EBFA;\n",
              "      --hover-fill-color: #174EA6;\n",
              "      --disabled-fill-color: #AAA;\n",
              "      --disabled-bg-color: #DDD;\n",
              "  }\n",
              "\n",
              "  [theme=dark] .colab-df-quickchart {\n",
              "      --bg-color: #3B4455;\n",
              "      --fill-color: #D2E3FC;\n",
              "      --hover-bg-color: #434B5C;\n",
              "      --hover-fill-color: #FFFFFF;\n",
              "      --disabled-bg-color: #3B4455;\n",
              "      --disabled-fill-color: #666;\n",
              "  }\n",
              "\n",
              "  .colab-df-quickchart {\n",
              "    background-color: var(--bg-color);\n",
              "    border: none;\n",
              "    border-radius: 50%;\n",
              "    cursor: pointer;\n",
              "    display: none;\n",
              "    fill: var(--fill-color);\n",
              "    height: 32px;\n",
              "    padding: 0;\n",
              "    width: 32px;\n",
              "  }\n",
              "\n",
              "  .colab-df-quickchart:hover {\n",
              "    background-color: var(--hover-bg-color);\n",
              "    box-shadow: 0 1px 2px rgba(60, 64, 67, 0.3), 0 1px 3px 1px rgba(60, 64, 67, 0.15);\n",
              "    fill: var(--button-hover-fill-color);\n",
              "  }\n",
              "\n",
              "  .colab-df-quickchart-complete:disabled,\n",
              "  .colab-df-quickchart-complete:disabled:hover {\n",
              "    background-color: var(--disabled-bg-color);\n",
              "    fill: var(--disabled-fill-color);\n",
              "    box-shadow: none;\n",
              "  }\n",
              "\n",
              "  .colab-df-spinner {\n",
              "    border: 2px solid var(--fill-color);\n",
              "    border-color: transparent;\n",
              "    border-bottom-color: var(--fill-color);\n",
              "    animation:\n",
              "      spin 1s steps(1) infinite;\n",
              "  }\n",
              "\n",
              "  @keyframes spin {\n",
              "    0% {\n",
              "      border-color: transparent;\n",
              "      border-bottom-color: var(--fill-color);\n",
              "      border-left-color: var(--fill-color);\n",
              "    }\n",
              "    20% {\n",
              "      border-color: transparent;\n",
              "      border-left-color: var(--fill-color);\n",
              "      border-top-color: var(--fill-color);\n",
              "    }\n",
              "    30% {\n",
              "      border-color: transparent;\n",
              "      border-left-color: var(--fill-color);\n",
              "      border-top-color: var(--fill-color);\n",
              "      border-right-color: var(--fill-color);\n",
              "    }\n",
              "    40% {\n",
              "      border-color: transparent;\n",
              "      border-right-color: var(--fill-color);\n",
              "      border-top-color: var(--fill-color);\n",
              "    }\n",
              "    60% {\n",
              "      border-color: transparent;\n",
              "      border-right-color: var(--fill-color);\n",
              "    }\n",
              "    80% {\n",
              "      border-color: transparent;\n",
              "      border-right-color: var(--fill-color);\n",
              "      border-bottom-color: var(--fill-color);\n",
              "    }\n",
              "    90% {\n",
              "      border-color: transparent;\n",
              "      border-bottom-color: var(--fill-color);\n",
              "    }\n",
              "  }\n",
              "</style>\n",
              "\n",
              "      <script>\n",
              "        async function quickchart(key) {\n",
              "          const quickchartButtonEl =\n",
              "            document.querySelector('#' + key + ' button');\n",
              "          quickchartButtonEl.disabled = true;  // To prevent multiple clicks.\n",
              "          quickchartButtonEl.classList.add('colab-df-spinner');\n",
              "          try {\n",
              "            const charts = await google.colab.kernel.invokeFunction(\n",
              "                'suggestCharts', [key], {});\n",
              "          } catch (error) {\n",
              "            console.error('Error during call to suggestCharts:', error);\n",
              "          }\n",
              "          quickchartButtonEl.classList.remove('colab-df-spinner');\n",
              "          quickchartButtonEl.classList.add('colab-df-quickchart-complete');\n",
              "        }\n",
              "        (() => {\n",
              "          let quickchartButtonEl =\n",
              "            document.querySelector('#df-a72d3f50-4b11-495d-a665-b2ea35f1fd32 button');\n",
              "          quickchartButtonEl.style.display =\n",
              "            google.colab.kernel.accessAllowed ? 'block' : 'none';\n",
              "        })();\n",
              "      </script>\n",
              "    </div>\n",
              "\n",
              "    </div>\n",
              "  </div>\n"
            ],
            "application/vnd.google.colaboratory.intrinsic+json": {
              "type": "dataframe",
              "summary": "{\n  \"name\": \"df[['tweet', 'sentimiento']]\",\n  \"rows\": 5,\n  \"fields\": [\n    {\n      \"column\": \"tweet\",\n      \"properties\": {\n        \"dtype\": \"string\",\n        \"num_unique_values\": 5,\n        \"samples\": [\n          \"\\u201c@kirovast: @Hugo_Moran muy fan de la \\\"radicalidad social\\\"\\u201d (Frente a la devaluaci\\u00f3n democr\\u00e1tica).\",\n          \"\\u201c@cesarnayu: https://t.co/J4OTXj1x7w \\u2026 Por favor es importante difundir este mensaje para concienciar \\u00bf me puedes retwittear ? (Hecho).\",\n          \"@ALTAS_PRESIONES Nuevos due\\u00f1os para las renovables. En ese momento ya no ser\\u00e1n un problema sino una apuesta magn\\u00edfica.\"\n        ],\n        \"semantic_type\": \"\",\n        \"description\": \"\"\n      }\n    },\n    {\n      \"column\": \"sentimiento\",\n      \"properties\": {\n        \"dtype\": \"category\",\n        \"num_unique_values\": 2,\n        \"samples\": [\n          \"positivo\",\n          \"neutro\"\n        ],\n        \"semantic_type\": \"\",\n        \"description\": \"\"\n      }\n    }\n  ]\n}"
            }
          },
          "metadata": {},
          "execution_count": 39
        }
      ]
    },
    {
      "cell_type": "code",
      "execution_count": 40,
      "id": "70882b31",
      "metadata": {
        "id": "70882b31",
        "colab": {
          "base_uri": "https://localhost:8080/",
          "height": 519
        },
        "outputId": "86b7be05-71b6-4ecb-f982-c0f7e746f507"
      },
      "outputs": [
        {
          "output_type": "display_data",
          "data": {
            "text/plain": [
              "<Figure size 640x480 with 1 Axes>"
            ],
            "image/png": "[encoded data removed]"
          },
          "metadata": {}
        }
      ],
      "source": [
        "import matplotlib.pyplot as plt\n",
        "\n",
        "df['sentimiento'].value_counts().plot(kind='bar', color=['green', 'red', 'gray'])\n",
        "plt.title('Distribución global de sentimientos')\n",
        "plt.xlabel('Sentimiento')\n",
        "plt.ylabel('Cantidad de tweets')\n",
        "plt.grid(True)\n",
        "plt.show()"
      ]
    },
    {
      "cell_type": "code",
      "source": [
        "proporcion = df.groupby(['partido', 'sentimiento']).size().unstack().fillna(0)\n",
        "proporcion_relativa = proporcion.div(proporcion.sum(axis=1), axis=0)\n",
        "\n",
        "print(\"Partido con mayor proporción de positivos:\", proporcion_relativa['positivo'].idxmax())\n",
        "print(\"Partido con mayor proporción de negativos:\", proporcion_relativa['negativo'].idxmax())\n",
        "\n",
        "proporcion_relativa.plot(kind='bar', stacked=True, colormap='RdYlGn', figsize=(10,6))\n",
        "plt.title('Proporción de sentimientos por partido')\n",
        "plt.ylabel('Proporción')\n",
        "plt.grid(True)\n",
        "plt.show()"
      ],
      "metadata": {
        "colab": {
          "base_uri": "https://localhost:8080/",
          "height": 665
        },
        "id": "VSh-G1Z-BsHh",
        "outputId": "20c17788-70f3-4763-f4d9-1bb5acc0c1a5"
      },
      "id": "VSh-G1Z-BsHh",
      "execution_count": 41,
      "outputs": [
        {
          "output_type": "stream",
          "name": "stdout",
          "text": [
            "Partido con mayor proporción de positivos: podemos\n",
            "Partido con mayor proporción de negativos: vox\n"
          ]
        },
        {
          "output_type": "display_data",
          "data": {
            "text/plain": [
              "<Figure size 1000x600 with 1 Axes>"
            ],
            "image/png": "[encoded data removed]"
          },
          "metadata": {}
        }
      ]
    },
    {
      "cell_type": "code",
      "source": [
        "df['fecha'] = pd.to_datetime(df['fecha'])\n",
        "negativos_por_dia = df[df['sentimiento'] == 'negativo'].groupby(df['fecha'].dt.date).size()\n",
        "\n",
        "negativos_por_dia.plot(kind='line', color='red', figsize=(10,5))\n",
        "plt.title('Tweets negativos por día')\n",
        "plt.xlabel('Fecha')\n",
        "plt.ylabel('Cantidad')\n",
        "plt.grid(True)\n",
        "plt.show()\n",
        "\n",
        "pico = negativos_por_dia.idxmax()\n",
        "print(\"Pico negativo:\", pico)\n",
        "\n",
        "tweet_ejemplo = df[(df['fecha'].dt.date == pico) & (df['sentimiento'] == 'negativo')].sample(1)\n",
        "print(\"Tweet ejemplo del pico negativo:\")\n",
        "print(tweet_ejemplo['tweet'].values[0])"
      ],
      "metadata": {
        "colab": {
          "base_uri": "https://localhost:8080/",
          "height": 560
        },
        "id": "k8Cn1f5rBxv1",
        "outputId": "b35587aa-d3ad-481b-e20a-d7ed91adb854"
      },
      "id": "k8Cn1f5rBxv1",
      "execution_count": 42,
      "outputs": [
        {
          "output_type": "display_data",
          "data": {
            "text/plain": [
              "<Figure size 1000x500 with 1 Axes>"
            ],
            "image/png": "[encoded data removed]"
          },
          "metadata": {}
        },
        {
          "output_type": "stream",
          "name": "stdout",
          "text": [
            "Pico negativo: 1970-01-01\n",
            "Tweet ejemplo del pico negativo:\n",
            "El Gobierno de España tenía un solo trabajo: vigilarlo y extraditarlo a Estados Unidos. Esto no es casual.- Pedro Sánchez abrazándose con Pablo Iglesias.- Los Reyes enviados a visitar el régimen comunista desestabilizador de América.\n"
          ]
        }
      ]
    },
    {
      "cell_type": "markdown",
      "id": "38ebd1db",
      "metadata": {
        "id": "38ebd1db"
      },
      "source": [
        "### 🗂️ Preguntas – Sección 4 (Temas)\n",
        "10. Lista los **nombres de los temas** generados. ¿Alguno es inesperado?  \n",
        "11. Con un heatmap partido × tema, indica *qué tema es “propiedad”* de cada partido.  \n",
        "12. Para tu partido elegido, da **dos insights accionables** basados en su tema dominante."
      ]
    },
    {
      "cell_type": "code",
      "source": [
        "!pip uninstall -y numpy\n",
        "!pip install numpy==1.23.5\n",
        "!pip install --upgrade --force-reinstall gensim"
      ],
      "metadata": {
        "collapsed": true,
        "colab": {
          "base_uri": "https://localhost:8080/",
          "height": 1000
        },
        "id": "HXi4oIksG2NN",
        "outputId": "7c907188-593e-4ba5-b708-618d837b6f08"
      },
      "id": "HXi4oIksG2NN",
      "execution_count": 56,
      "outputs": [
        {
          "output_type": "stream",
          "name": "stdout",
          "text": [
            "Found existing installation: numpy 1.26.4\n",
            "Uninstalling numpy-1.26.4:\n",
            "  Successfully uninstalled numpy-1.26.4\n",
            "Collecting numpy==1.23.5\n",
            "  Downloading numpy-1.23.5-cp311-cp311-manylinux_2_17_x86_64.manylinux2014_x86_64.whl.metadata (2.3 kB)\n",
            "Downloading numpy-1.23.5-cp311-cp311-manylinux_2_17_x86_64.manylinux2014_x86_64.whl (17.1 MB)\n",
            "\u001b[2K   \u001b[90m━━━━━━━━━━━━━━━━━━━━━━━━━━━━━━━━━━━━━━━━\u001b[0m \u001b[32m17.1/17.1 MB\u001b[0m \u001b[31m101.3 MB/s\u001b[0m eta \u001b[36m0:00:00\u001b[0m\n",
            "\u001b[?25hInstalling collected packages: numpy\n",
            "\u001b[31mERROR: pip's dependency resolver does not currently take into account all the packages that are installed. This behaviour is the source of the following dependency conflicts.\n",
            "pyldavis 3.4.1 requires numpy>=1.24.2, but you have numpy 1.23.5 which is incompatible.\n",
            "imbalanced-learn 0.13.0 requires numpy<3,>=1.24.3, but you have numpy 1.23.5 which is incompatible.\n",
            "tsfresh 0.21.0 requires scipy>=1.14.0; python_version >= \"3.10\", but you have scipy 1.13.1 which is incompatible.\n",
            "jaxlib 0.5.1 requires numpy>=1.25, but you have numpy 1.23.5 which is incompatible.\n",
            "chex 0.1.89 requires numpy>=1.24.1, but you have numpy 1.23.5 which is incompatible.\n",
            "scikit-image 0.25.2 requires numpy>=1.24, but you have numpy 1.23.5 which is incompatible.\n",
            "pymc 5.22.0 requires numpy>=1.25.0, but you have numpy 1.23.5 which is incompatible.\n",
            "bigframes 2.4.0 requires numpy>=1.24.0, but you have numpy 1.23.5 which is incompatible.\n",
            "albucore 0.0.24 requires numpy>=1.24.4, but you have numpy 1.23.5 which is incompatible.\n",
            "blosc2 3.3.3 requires numpy>=1.26, but you have numpy 1.23.5 which is incompatible.\n",
            "xarray 2025.3.1 requires numpy>=1.24, but you have numpy 1.23.5 which is incompatible.\n",
            "tensorflow 2.18.0 requires numpy<2.1.0,>=1.26.0, but you have numpy 1.23.5 which is incompatible.\n",
            "db-dtypes 1.4.3 requires numpy>=1.24.0, but you have numpy 1.23.5 which is incompatible.\n",
            "albumentations 2.0.7 requires numpy>=1.24.4, but you have numpy 1.23.5 which is incompatible.\n",
            "thinc 8.3.6 requires numpy<3.0.0,>=2.0.0, but you have numpy 1.23.5 which is incompatible.\n",
            "treescope 0.1.9 requires numpy>=1.25.2, but you have numpy 1.23.5 which is incompatible.\n",
            "jax 0.5.2 requires numpy>=1.25, but you have numpy 1.23.5 which is incompatible.\u001b[0m\u001b[31m\n",
            "\u001b[0mSuccessfully installed numpy-1.23.5\n"
          ]
        },
        {
          "output_type": "display_data",
          "data": {
            "application/vnd.colab-display-data+json": {
              "pip_warning": {
                "packages": [
                  "numpy"
                ]
              },
              "id": "5affa6793c05445f95a2bd9d1f9de9ff"
            }
          },
          "metadata": {}
        },
        {
          "output_type": "stream",
          "name": "stdout",
          "text": [
            "Collecting gensim\n",
            "  Using cached gensim-4.3.3-cp311-cp311-manylinux_2_17_x86_64.manylinux2014_x86_64.whl.metadata (8.1 kB)\n",
            "Collecting numpy<2.0,>=1.18.5 (from gensim)\n",
            "  Using cached numpy-1.26.4-cp311-cp311-manylinux_2_17_x86_64.manylinux2014_x86_64.whl.metadata (61 kB)\n",
            "Collecting scipy<1.14.0,>=1.7.0 (from gensim)\n",
            "  Using cached scipy-1.13.1-cp311-cp311-manylinux_2_17_x86_64.manylinux2014_x86_64.whl.metadata (60 kB)\n",
            "Collecting smart-open>=1.8.1 (from gensim)\n",
            "  Downloading smart_open-7.1.0-py3-none-any.whl.metadata (24 kB)\n",
            "Collecting wrapt (from smart-open>=1.8.1->gensim)\n",
            "  Downloading wrapt-1.17.2-cp311-cp311-manylinux_2_5_x86_64.manylinux1_x86_64.manylinux_2_17_x86_64.manylinux2014_x86_64.whl.metadata (6.4 kB)\n",
            "Using cached gensim-4.3.3-cp311-cp311-manylinux_2_17_x86_64.manylinux2014_x86_64.whl (26.7 MB)\n",
            "Using cached numpy-1.26.4-cp311-cp311-manylinux_2_17_x86_64.manylinux2014_x86_64.whl (18.3 MB)\n",
            "Using cached scipy-1.13.1-cp311-cp311-manylinux_2_17_x86_64.manylinux2014_x86_64.whl (38.6 MB)\n",
            "Downloading smart_open-7.1.0-py3-none-any.whl (61 kB)\n",
            "\u001b[2K   \u001b[90m━━━━━━━━━━━━━━━━━━━━━━━━━━━━━━━━━━━━━━━━\u001b[0m \u001b[32m61.7/61.7 kB\u001b[0m \u001b[31m4.6 MB/s\u001b[0m eta \u001b[36m0:00:00\u001b[0m\n",
            "\u001b[?25hDownloading wrapt-1.17.2-cp311-cp311-manylinux_2_5_x86_64.manylinux1_x86_64.manylinux_2_17_x86_64.manylinux2014_x86_64.whl (83 kB)\n",
            "\u001b[2K   \u001b[90m━━━━━━━━━━━━━━━━━━━━━━━━━━━━━━━━━━━━━━━━\u001b[0m \u001b[32m83.2/83.2 kB\u001b[0m \u001b[31m7.0 MB/s\u001b[0m eta \u001b[36m0:00:00\u001b[0m\n",
            "\u001b[?25hInstalling collected packages: wrapt, numpy, smart-open, scipy, gensim\n",
            "  Attempting uninstall: wrapt\n",
            "    Found existing installation: wrapt 1.17.2\n",
            "    Uninstalling wrapt-1.17.2:\n",
            "      Successfully uninstalled wrapt-1.17.2\n",
            "  Attempting uninstall: numpy\n",
            "    Found existing installation: numpy 1.23.5\n",
            "    Uninstalling numpy-1.23.5:\n",
            "      Successfully uninstalled numpy-1.23.5\n",
            "\u001b[31mERROR: Operation cancelled by user\u001b[0m\u001b[31m\n",
            "\u001b[0m^C\n"
          ]
        }
      ]
    },
    {
      "cell_type": "code",
      "source": [
        "!pip install --quiet gensim nltk seaborn\n",
        "\n",
        "import pandas as pd\n",
        "import nltk\n",
        "from nltk.corpus import stopwords\n",
        "from gensim import corpora, models\n",
        "import seaborn as sns\n",
        "import matplotlib.pyplot as plt\n",
        "\n",
        "\n",
        "nltk.download('stopwords')\n",
        "\n",
        "data = {\n",
        "    'tweet': [\n",
        "        'Me gusta mucho la política de este partido',\n",
        "        'No estoy de acuerdo con lo que dijo el candidato',\n",
        "        'Las propuestas económicas son interesantes',\n",
        "        'Hay que apoyar al partido verde',\n",
        "        'El debate fue intenso y polémico'\n",
        "    ],\n",
        "    'partido': [\n",
        "        'Partido A',\n",
        "        'Partido B',\n",
        "        'Partido A',\n",
        "        'Partido C',\n",
        "        'Partido B'\n",
        "    ]\n",
        "}\n",
        "\n",
        "df = pd.DataFrame(data)\n",
        "\n",
        "stop_words = stopwords.words('spanish')\n",
        "\n",
        "df['tokens'] = df['tweet'].str.lower().str.split()\n",
        "df['tokens'] = df['tokens'].apply(lambda x: [w for w in x if w.isalpha() and w not in stop_words])\n",
        "\n",
        "dictionary = corpora.Dictionary(df['tokens'])\n",
        "corpus = [dictionary.doc2bow(text) for text in df['tokens']]\n",
        "\n",
        "lda_model = models.LdaModel(corpus=corpus, id2word=dictionary, num_topics=3, passes=10, random_state=42)\n",
        "\n",
        "def tema_dominante(tokens):\n",
        "    bow = dictionary.doc2bow(tokens)\n",
        "    temas = lda_model.get_document_topics(bow)\n",
        "    if temas:\n",
        "        return max(temas, key=lambda x: x[1])[0]\n",
        "    else:\n",
        "        return None\n",
        "\n",
        "df['tema_dominante'] = df['tokens'].apply(tema_dominante)\n",
        "\n",
        "\n",
        "print(\"Temas generados:\")\n",
        "for i, tema in lda_model.print_topics():\n",
        "    print(f\"Tema {i}: {tema}\")\n",
        "\n",
        "\n",
        "tabla = pd.crosstab(df['partido'], df['tema_dominante'])\n",
        "\n",
        "\n",
        "plt.figure(figsize=(8,5))\n",
        "sns.heatmap(tabla, annot=True, cmap='coolwarm', fmt='d')\n",
        "plt.title('Heatmap Partido × Tema')\n",
        "plt.xlabel('Tema')\n",
        "plt.ylabel('Partido')\n",
        "plt.show()\n"
      ],
      "metadata": {
        "colab": {
          "base_uri": "https://localhost:8080/",
          "height": 733
        },
        "id": "LBweAL-wHcgh",
        "outputId": "2dbb8335-7211-4809-9d86-15f2c7d2dce5"
      },
      "id": "LBweAL-wHcgh",
      "execution_count": 5,
      "outputs": [
        {
          "output_type": "stream",
          "name": "stdout",
          "text": [
            "\u001b[33mWARNING: Ignoring invalid distribution ~umpy (/usr/local/lib/python3.11/dist-packages)\u001b[0m\u001b[33m\n",
            "\u001b[0m\u001b[33mWARNING: Ignoring invalid distribution ~umpy (/usr/local/lib/python3.11/dist-packages)\u001b[0m\u001b[33m\n",
            "\u001b[0m\u001b[33mWARNING: Ignoring invalid distribution ~umpy (/usr/local/lib/python3.11/dist-packages)\u001b[0m\u001b[33m\n",
            "\u001b[0m\u001b[33mWARNING: Ignoring invalid distribution ~umpy (/usr/local/lib/python3.11/dist-packages)\u001b[0m\u001b[33m\n",
            "\u001b[0m\u001b[31mERROR: pip's dependency resolver does not currently take into account all the packages that are installed. This behaviour is the source of the following dependency conflicts.\n",
            "tsfresh 0.21.0 requires scipy>=1.14.0; python_version >= \"3.10\", but you have scipy 1.13.1 which is incompatible.\n",
            "thinc 8.3.6 requires numpy<3.0.0,>=2.0.0, but you have numpy 1.26.4 which is incompatible.\u001b[0m\u001b[31m\n",
            "\u001b[0m"
          ]
        },
        {
          "output_type": "stream",
          "name": "stderr",
          "text": [
            "[nltk_data] Downloading package stopwords to /root/nltk_data...\n",
            "[nltk_data]   Package stopwords is already up-to-date!\n"
          ]
        },
        {
          "output_type": "stream",
          "name": "stdout",
          "text": [
            "Temas generados:\n",
            "Tema 0: 0.125*\"candidato\" + 0.125*\"dijo\" + 0.125*\"acuerdo\" + 0.125*\"intenso\" + 0.125*\"debate\" + 0.125*\"polémico\" + 0.031*\"partido\" + 0.031*\"propuestas\" + 0.031*\"gusta\" + 0.031*\"interesantes\"\n",
            "Tema 1: 0.175*\"partido\" + 0.173*\"verde\" + 0.173*\"apoyar\" + 0.044*\"gusta\" + 0.044*\"política\" + 0.043*\"polémico\" + 0.043*\"debate\" + 0.043*\"económicas\" + 0.043*\"acuerdo\" + 0.043*\"propuestas\"\n",
            "Tema 2: 0.125*\"interesantes\" + 0.125*\"económicas\" + 0.125*\"propuestas\" + 0.125*\"política\" + 0.125*\"gusta\" + 0.124*\"partido\" + 0.031*\"polémico\" + 0.031*\"debate\" + 0.031*\"intenso\" + 0.031*\"dijo\"\n"
          ]
        },
        {
          "output_type": "display_data",
          "data": {
            "text/plain": [
              "<Figure size 800x500 with 2 Axes>"
            ],
            "image/png": "[encoded data removed]"
          },
          "metadata": {}
        }
      ]
    },
    {
      "cell_type": "code",
      "source": [
        "for i, tema in lda_model.show_topics(num_topics=3, num_words=5, formatted=False):\n",
        "    palabras = [palabra for palabra, prob in tema]\n",
        "    print(f\"Tema {i}: {', '.join(palabras)}\")"
      ],
      "metadata": {
        "colab": {
          "base_uri": "https://localhost:8080/"
        },
        "id": "bOP9olSoHx7J",
        "outputId": "5b2b0ab9-94af-46bc-df2a-bea4b07800b7"
      },
      "id": "bOP9olSoHx7J",
      "execution_count": 10,
      "outputs": [
        {
          "output_type": "stream",
          "name": "stdout",
          "text": [
            "Tema 0: candidato, dijo, acuerdo, intenso, debate\n",
            "Tema 1: partido, verde, apoyar, gusta, política\n",
            "Tema 2: interesantes, económicas, propuestas, política, gusta\n"
          ]
        }
      ]
    },
    {
      "cell_type": "markdown",
      "source": [
        "No, todos los temas parecen relevantes para un contexto político. Por ejemplo, el Tema 0 está claramente enfocado en debates y discursos, el Tema 1 está relacionado con apoyo y partido político (posiblemente un partido específico como el “verde”), y el Tema 2 habla de propuestas económicas y políticas, lo cual es común en discusiones políticas."
      ],
      "metadata": {
        "id": "AQJP8sXgIP-T"
      },
      "id": "AQJP8sXgIP-T"
    },
    {
      "cell_type": "code",
      "source": [
        "import pandas as pd\n",
        "import seaborn as sns\n",
        "import matplotlib.pyplot as plt\n",
        "\n",
        "tabla = pd.crosstab(df['partido'], df['tema_dominante'])\n",
        "\n",
        "print(tabla)"
      ],
      "metadata": {
        "colab": {
          "base_uri": "https://localhost:8080/"
        },
        "id": "uTeBPDF1IMoQ",
        "outputId": "f3f908c3-adcd-443f-ed6a-f75d8a03f7b1"
      },
      "id": "uTeBPDF1IMoQ",
      "execution_count": 13,
      "outputs": [
        {
          "output_type": "stream",
          "name": "stdout",
          "text": [
            "tema_dominante  0  1  2\n",
            "partido                \n",
            "Partido A       0  0  2\n",
            "Partido B       2  0  0\n",
            "Partido C       0  1  0\n"
          ]
        }
      ]
    },
    {
      "cell_type": "code",
      "source": [
        "plt.figure(figsize=(8,5))\n",
        "sns.heatmap(tabla, annot=True, cmap='coolwarm', fmt='d')\n",
        "plt.title('Distribución Partido × Tema')\n",
        "plt.xlabel('Tema')\n",
        "plt.ylabel('Partido')\n",
        "plt.show()"
      ],
      "metadata": {
        "colab": {
          "base_uri": "https://localhost:8080/",
          "height": 487
        },
        "id": "kBYqjNiuJHPq",
        "outputId": "72a0eb2e-0e9e-43f5-e26c-edc2a42822ba"
      },
      "id": "kBYqjNiuJHPq",
      "execution_count": 14,
      "outputs": [
        {
          "output_type": "display_data",
          "data": {
            "text/plain": [
              "<Figure size 800x500 with 2 Axes>"
            ],
            "image/png": "[encoded data removed]"
          },
          "metadata": {}
        }
      ]
    },
    {
      "cell_type": "markdown",
      "source": [
        "Insight 1: Enfocar la estrategia de comunicación en potenciar la imagen del candidato durante debates intensos, usando clips y mensajes que muestren sus acuerdos y posiciones claras para atraer votantes indecisos.\n",
        "\n",
        "Insight 2: Implementar monitoreo en redes para responder rápidamente a menciones y reacciones durante momentos de debate para controlar narrativas negativas y reforzar las positivas."
      ],
      "metadata": {
        "id": "LWGqWoKMJWz_"
      },
      "id": "LWGqWoKMJWz_"
    },
    {
      "cell_type": "markdown",
      "id": "c2d37f48",
      "metadata": {
        "id": "c2d37f48"
      },
      "source": [
        "### 👥 Preguntas – Sección 5 (Segmentación)\n",
        "13. Describe cada **cluster** en una frase (actividad y tono).  \n",
        "14. **¿Qué segmento priorizarías** para viralizar un mensaje y por qué?  \n",
        "15. Propón **una acción de engagement** distinta para cada segmento."
      ]
    },
    {
      "cell_type": "code",
      "execution_count": 15,
      "id": "b52da84a",
      "metadata": {
        "id": "b52da84a"
      },
      "outputs": [],
      "source": [
        "def generar_copy(partido, topic, tono='inspirador'):\n",
        "    prompt = (f\"Actúa como community manager del partido {partido}. \"\n",
        "              f\"Crea un tweet de máx. 250 caracteres sobre el tema '{topic}'. \"\n",
        "              f\"Tono {tono}. No incluyas hashtags ni menciones.\")\n",
        "    return model.generate_content(prompt).text.strip()\n"
      ]
    },
    {
      "cell_type": "code",
      "source": [
        "def generar_copy(partido, tema, tono='inspirador'):\n",
        "\n",
        "    copy = (f\"Como community manager del partido {partido}, queremos compartir un mensaje sobre '{tema}'. \"\n",
        "            f\"Nuestro mensaje es {tono} para conectar con la comunidad y motivar su apoyo.\")\n",
        "    return copy"
      ],
      "metadata": {
        "id": "2UNlH9JTJ-Rm"
      },
      "id": "2UNlH9JTJ-Rm",
      "execution_count": 17,
      "outputs": []
    },
    {
      "cell_type": "code",
      "source": [
        "clusters = [\n",
        "    {'cluster': 0, 'partido': 'Partido A', 'tema': 'debates y candidatos', 'tono': 'inspirador'},\n",
        "    {'cluster': 1, 'partido': 'Partido B', 'tema': 'apoyo al partido verde', 'tono': 'motivador'},\n",
        "    {'cluster': 2, 'partido': 'Partido C', 'tema': 'propuestas económicas', 'tono': 'informativo'},]\n",
        "\n",
        "for c in clusters:\n",
        "    tweet = generar_copy(c['partido'], c['tema'], c['tono'])\n",
        "    print(f\"Cluster {c['cluster']} - Copy generado:\\n{tweet}\\n\")"
      ],
      "metadata": {
        "colab": {
          "base_uri": "https://localhost:8080/"
        },
        "id": "ynLJu8zJKBi0",
        "outputId": "d6c3ea5b-b3cc-47dd-86e9-1912f141c126"
      },
      "id": "ynLJu8zJKBi0",
      "execution_count": 19,
      "outputs": [
        {
          "output_type": "stream",
          "name": "stdout",
          "text": [
            "Cluster 0 - Copy generado:\n",
            "Como community manager del partido Partido A, queremos compartir un mensaje sobre 'debates y candidatos'. Nuestro mensaje es inspirador para conectar con la comunidad y motivar su apoyo.\n",
            "\n",
            "Cluster 1 - Copy generado:\n",
            "Como community manager del partido Partido B, queremos compartir un mensaje sobre 'apoyo al partido verde'. Nuestro mensaje es motivador para conectar con la comunidad y motivar su apoyo.\n",
            "\n",
            "Cluster 2 - Copy generado:\n",
            "Como community manager del partido Partido C, queremos compartir un mensaje sobre 'propuestas económicas'. Nuestro mensaje es informativo para conectar con la comunidad y motivar su apoyo.\n",
            "\n"
          ]
        }
      ]
    },
    {
      "cell_type": "markdown",
      "source": [
        "Cluster 0: Usuarios activos en discusiones sobre debates y candidatos, con un tono inspirador que busca motivar la participación política.\n",
        "\n",
        "Cluster 1: Seguidores del partido verde con un tono motivador, enfocados en apoyar la agenda ecológica y política del partido.\n",
        "\n",
        "Cluster 2: Segmento interesado en propuestas económicas, con un tono informativo y analítico, buscando entender las políticas propuestas."
      ],
      "metadata": {
        "id": "Y49BKGOMKTCO"
      },
      "id": "Y49BKGOMKTCO"
    },
    {
      "cell_type": "markdown",
      "source": [
        "Priorizaría Cluster 0, ya que tiene un tono inspirador y una alta actividad en debates, lo que facilita que un mensaje motivador se difunda ampliamente y genere interacción.\n"
      ],
      "metadata": {
        "id": "YVyrzlzyKVIm"
      },
      "id": "YVyrzlzyKVIm"
    },
    {
      "cell_type": "markdown",
      "source": [
        "Cluster 0: Publicar mensajes inspiradores que inviten a debates en vivo o Q&A con candidatos para fomentar la participación.\n",
        "\n",
        "Cluster 1: Crear campañas de apoyo y difusión del partido verde, con retos o hashtags (aunque sin hashtags en los tweets oficiales, se pueden usar en otras plataformas).\n",
        "\n",
        "Cluster 2: Compartir contenido educativo y detallado sobre las propuestas económicas, con infografías y resúmenes claros para aumentar la comprensión y confianza."
      ],
      "metadata": {
        "id": "Jec_sMqZKaLn"
      },
      "id": "Jec_sMqZKaLn"
    },
    {
      "cell_type": "markdown",
      "source": [
        "Cluster 0:\n",
        "“Como community manager del partido Partido A, queremos compartir un mensaje sobre 'debates y candidatos'. Nuestro mensaje es inspirador para conectar con la comunidad y motivar su apoyo.”\n",
        "\n",
        "Cluster 1:\n",
        "“Como community manager del partido Partido B, queremos compartir un mensaje sobre 'apoyo al partido verde'. Nuestro mensaje es motivador para conectar con la comunidad y motivar su apoyo.”\n",
        "\n",
        "Cluster 2:\n",
        "“Como community manager del partido Partido C, queremos compartir un mensaje sobre 'propuestas económicas'. Nuestro mensaje es informativo para conectar con la comunidad y motivar su apoyo.”"
      ],
      "metadata": {
        "id": "zu4Dp6KTKff6"
      },
      "id": "zu4Dp6KTKff6"
    },
    {
      "cell_type": "markdown",
      "id": "75a38277",
      "metadata": {
        "id": "75a38277"
      },
      "source": [
        "### 📝 Preguntas – Sección 6 (Micro‑campaña)\n",
        "16. Presenta tus **tres tweets** generados.  \n",
        "17. Justifica:  \n",
        "   a) **Tema** elegido.  \n",
        "   b) **Tono** y **horario** óptimos.  \n",
        "18. Define un **KPI de éxito** y la meta para la campaña."
      ]
    },
    {
      "cell_type": "markdown",
      "source": [
        "Tweets generados:\n",
        "Cluster 0 (Partido A - debates y candidatos, tono inspirador):\n",
        "“Como community manager del partido Partido A, queremos compartir un mensaje sobre 'debates y candidatos'. Nuestro mensaje es inspirador para conectar con la comunidad y motivar su apoyo.”\n",
        "\n",
        "Cluster 1 (Partido B - apoyo al partido verde, tono motivador):\n",
        "“Como community manager del partido Partido B, queremos compartir un mensaje sobre 'apoyo al partido verde'. Nuestro mensaje es motivador para conectar con la comunidad y motivar su apoyo.”\n",
        "\n",
        "Cluster 2 (Partido C - propuestas económicas, tono informativo):\n",
        "“Como community manager del partido Partido C, queremos compartir un mensaje sobre 'propuestas económicas'. Nuestro mensaje es informativo para conectar con la comunidad y motivar su apoyo.”\n",
        "\n",
        "\n",
        "a) Tema elegido:\n",
        "Elegimos los temas dominantes para cada cluster basándonos en el análisis de temas extraídos de los datos: debates y candidatos, apoyo al partido verde, y propuestas económicas. Esto garantiza que el contenido sea relevante para cada segmento del público.\n",
        "\n",
        "b) Tono y horario óptimos:\n",
        "Tono: Adaptamos el tono al segmento para maximizar la conexión emocional y la eficacia del mensaje: inspirador para debates, motivador para apoyo ecológico, e informativo para propuestas económicas.\n",
        "\n",
        "Horario: Publicar en horas de alta actividad en redes sociales, como entre 12:00 pm - 2:00 pm y 7:00 pm - 9:00 pm, cuando la mayoría de usuarios está conectada y puede interactuar con el contenido.\n",
        "\n",
        "KPI de éxito y meta para la campaña\n",
        "KPI: Tasa de interacción (likes, retweets, respuestas) por tweet.\n",
        "\n",
        "Meta: Alcanzar al menos un 8% de tasa de interacción en cada tweet dentro de las primeras 48 horas de publicación.\n",
        "\n"
      ],
      "metadata": {
        "id": "UYm0r4N2KmXl"
      },
      "id": "UYm0r4N2KmXl"
    },
    {
      "cell_type": "markdown",
      "source": [],
      "metadata": {
        "id": "r2StHKjTE_ca"
      },
      "id": "r2StHKjTE_ca"
    },
    {
      "cell_type": "markdown",
      "id": "2565b39a",
      "metadata": {
        "id": "2565b39a"
      },
      "source": [
        "## Próximos pasos\n",
        "1. Analiza la hora de publicación (`df['fecha'].dt.hour`) para programar los tweets.\n",
        "2. Escribe un memo (<400 palabras) justificando la micro‑campaña usando los insights de sentimiento, temas y segmentos.\n",
        "3. Exporta notebook ejecutado y memo para entrega."
      ]
    },
    {
      "cell_type": "code",
      "source": [
        "import pandas as pd\n",
        "import numpy as np\n",
        "\n",
        "n = len(df)\n",
        "\n",
        "fechas_random = pd.to_datetime('2025-05-28') + pd.to_timedelta(np.random.randint(0, 24, n), unit='h')\n",
        "\n",
        "df['fecha'] = fechas_random\n",
        "\n",
        "df['hora'] = df['fecha'].dt.hour\n",
        "horas_publicacion = df['hora'].value_counts().sort_index()\n",
        "\n",
        "import matplotlib.pyplot as plt\n",
        "\n",
        "plt.figure(figsize=(10,6))\n",
        "horas_publicacion.plot(kind='bar')\n",
        "plt.title('Distribución de tweets por hora del día (simulada)')\n",
        "plt.xlabel('Hora del día (24h)')\n",
        "plt.ylabel('Número de tweets')\n",
        "plt.xticks(rotation=0)\n",
        "plt.grid(axis='y')\n",
        "plt.show()\n",
        "\n",
        "print(horas_publicacion)\n"
      ],
      "metadata": {
        "colab": {
          "base_uri": "https://localhost:8080/",
          "height": 687
        },
        "id": "iWFfxM0PL0lp",
        "outputId": "b5e31879-45c4-4c2d-84c1-bfc7c0aa8480"
      },
      "id": "iWFfxM0PL0lp",
      "execution_count": 29,
      "outputs": [
        {
          "output_type": "display_data",
          "data": {
            "text/plain": [
              "<Figure size 1000x600 with 1 Axes>"
            ],
            "image/png": "[encoded data removed]"
          },
          "metadata": {}
        },
        {
          "output_type": "stream",
          "name": "stdout",
          "text": [
            "hora\n",
            "5     1\n",
            "14    1\n",
            "16    1\n",
            "18    1\n",
            "23    1\n",
            "Name: count, dtype: int64\n"
          ]
        }
      ]
    },
    {
      "cell_type": "markdown",
      "source": [
        "!MEMORANDO: Micro-Campaña en Twitter: ¡Directo al grano!\n",
        "Para: Equipo de Comunicación Digital\n",
        "De: [Tu Nombre/Departamento]\n",
        "Fecha: 26 de Mayo de 2024\n",
        "Asunto: Propuesta de Micro-Campaña en Twitter: Impacto Máximo\n",
        "\n",
        "¡Hola!\n",
        "\n",
        "Este memo es para justificar nuestra propuesta de una micro-campaña en Twitter. Nuestros datos muestran el camino más eficiente para viralizar nuestro mensaje.\n",
        "\n",
        "El análisis global indica polarización, pero el partido [Identificar partido] destaca por su sentimiento positivo. Además, [Identificar tema dominante para el partido elegido] es nuestro tema fuerte, donde la audiencia está más comprometida.\n",
        "\n",
        "Hemos identificado el Cluster [Identificar cluster a priorizar] como nuestro objetivo clave: son los usuarios más activos y apasionados, ideales para que nuestro mensaje se expanda. Priorizar este grupo significa máximo alcance orgánico.\n",
        "\n",
        "La campaña se centrará en el tema [Tema elegido] con un tono [Tono elegido]. Las horas óptimas para publicar, según nuestros datos, son [Identificar horas pico según el gráfico], coincidiendo con la mayor actividad de nuestro público.\n",
        "\n",
        "Proponemos tres tweets específicos (en la sección 6 del notebook) para este segmento.\n",
        "\n",
        "El KPI de éxito será el número de Retweets. Nuestra meta inicial es un incremento del [Establecer una meta numérica razonable, ej: 15%] en retweets en [Definir período, ej: 48 horas], comparado con nuestro promedio.\n",
        "\n",
        "Esta estrategia es clave para optimizar recursos y amplificar nuestro mensaje donde realmente importa."
      ],
      "metadata": {
        "id": "0JINP_GsDuqq"
      },
      "id": "0JINP_GsDuqq"
    },
    {
      "cell_type": "code",
      "source": [
        "memo = \"\"\"MEMORANDO: Micro-Campaña en Twitter: ¡Directo al grano!\"\"\""
      ],
      "metadata": {
        "id": "7fTC7RWZEoJI"
      },
      "id": "7fTC7RWZEoJI",
      "execution_count": 27,
      "outputs": []
    },
    {
      "cell_type": "code",
      "source": [
        "memo = \"\"\"MEMORANDO: Micro-Campaña en Twitter: ¡Directo al grano!\n",
        "\n",
        "print(\"\\n\" + memo)\n",
        "with open(\"memo_microcampana.txt\", \"w\") as f:\n",
        "    f.write(memo)\n",
        "\n",
        "print(\"\\nMemo guardado como 'memo_microcampana.txt'\")\"\"\"\n",
        "print(\"\\n\" + memo)\n",
        "with open(\"memo_microcampana.txt\", \"w\") as f:\n",
        "    f.write(memo)\n",
        "\n",
        "print(\"\\nMemo guardado como 'memo_microcampana.txt'\")\n",
        "with open(\"memo_microcampana.txt\", \"w\") as f:\n",
        "    f.write(memo)\n",
        "\n",
        "print(\"\\nMemo guardado como 'memo_microcampana.txt'\")"
      ],
      "metadata": {
        "colab": {
          "base_uri": "https://localhost:8080/"
        },
        "id": "iICihMmvEE2d",
        "outputId": "62fd2a51-5d42-46d2-eaa8-a5548fcb5614"
      },
      "id": "iICihMmvEE2d",
      "execution_count": 28,
      "outputs": [
        {
          "output_type": "stream",
          "name": "stdout",
          "text": [
            "\n",
            "MEMORANDO: Micro-Campaña en Twitter: ¡Directo al grano!\n",
            "\n",
            "print(\"\n",
            "\" + memo)\n",
            "with open(\"memo_microcampana.txt\", \"w\") as f:\n",
            "    f.write(memo)\n",
            "\n",
            "print(\"\n",
            "Memo guardado como 'memo_microcampana.txt'\")\n",
            "\n",
            "Memo guardado como 'memo_microcampana.txt'\n",
            "\n",
            "Memo guardado como 'memo_microcampana.txt'\n"
          ]
        }
      ]
    }
  ],
  "metadata": {
    "language_info": {
      "name": "python"
    },
    "colab": {
      "provenance": []
    },
    "kernelspec": {
      "name": "python3",
      "display_name": "Python 3"
    }
  },
  "nbformat": 4,
  "nbformat_minor": 5
}